{
 "cells": [
  {
   "cell_type": "markdown",
   "id": "a2935971",
   "metadata": {},
   "source": [
    "### Problem statement:\n",
    "Extracting Product Information from Flipkart Website using Web Scraping\n"
   ]
  },
  {
   "cell_type": "markdown",
   "id": "ebb84950",
   "metadata": {},
   "source": [
    "### Objective:\n",
    "Design a web scraping solution to extract essential product information from the Flipkart website. The goal is to retrieve data such as brands, price, original price, description, and URL of various products listed on Flipkart."
   ]
  },
  {
   "cell_type": "markdown",
   "id": "fdf961d5",
   "metadata": {},
   "source": [
    "### Requirements:\n",
    "\n",
    "Website: Utilize the Flipkart website (www.flipkart.com) as the data source for product information extraction.\n",
    "Data Fields: The following fields need to be extracted for each product:\n",
    "- Brand: The brand name of the product.\n",
    "- Price: The current selling price of the product.\n",
    "- Original Price: The original price of the product (if applicable, considering discounts).\n",
    "- Description: A brief description of the product.\n",
    "- URL: The URL of the product's page on Flipkart."
   ]
  },
  {
   "cell_type": "markdown",
   "id": "3856e04b",
   "metadata": {},
   "source": [
    "### Flipkart Website"
   ]
  },
  {
   "cell_type": "markdown",
   "id": "2dce5f6b",
   "metadata": {},
   "source": [
    "### Importing Necessary Libraries"
   ]
  },
  {
   "cell_type": "code",
   "execution_count": 1,
   "id": "72ded3a1",
   "metadata": {},
   "outputs": [],
   "source": [
    "import pandas as pd               \n",
    "from bs4 import BeautifulSoup     # BeautifulSoup is used to parse the text information\n",
    "import requests\n",
    "from selenium import webdriver"
   ]
  },
  {
   "cell_type": "markdown",
   "id": "209833e0",
   "metadata": {},
   "source": [
    "### Code Documentation"
   ]
  },
  {
   "cell_type": "code",
   "execution_count": 2,
   "id": "ca3dc25b",
   "metadata": {},
   "outputs": [
    {
     "name": "stdout",
     "output_type": "stream",
     "text": [
      "Enter what you want: mobile\n"
     ]
    }
   ],
   "source": [
    "# Create a WebDriver instance (make sure you have the appropriate driver executable installed)\n",
    "driver = webdriver.Chrome()\n",
    "\n",
    "brands = []\n",
    "price = []\n",
    "original_price = []\n",
    "description = []\n",
    "link = []\n",
    "original_url = input('Enter what you want: ')\n",
    "\n",
    "for i in range(1,5):\n",
    "    def search_url(url):\n",
    "        template = 'https://www.flipkart.com/search?q={}&otracker=search&otracker1=search&marketplace=FLIPKART&as-show=on&as=off&page={}'\n",
    "        url = url.replace(' ','+')\n",
    "        return template.format(url,i)\n",
    "\n",
    "    driver.get(search_url(original_url))\n",
    "\n",
    "    soup = BeautifulSoup(driver.page_source, 'html.parser')\n",
    "    \n",
    "    # Brands\n",
    "    try:\n",
    "        brand = soup.find_all('div', class_='_4rR01T')\n",
    "        for a in brand:\n",
    "            brands.append(a.text.split('(')[0])\n",
    "    except AttributeError:\n",
    "        brands = ''\n",
    "\n",
    "    # Price\n",
    "    try:\n",
    "        pr = soup.find_all('div', class_='_30jeq3 _1_WHN1')\n",
    "        for b in pr:\n",
    "            price.append(int(b.text.replace('₹', '').replace(',', '')))\n",
    "    except AttributeError:\n",
    "        price.append(None)  # Append None for missing values\n",
    "\n",
    "    # Original Price\n",
    "    try:\n",
    "        orp = soup.find_all('div', class_='_3I9_wc _27UcVY')\n",
    "        for c in orp:\n",
    "            original_price.append(int(c.text.replace('₹', '').replace(',', '')))\n",
    "    except AttributeError:\n",
    "        original_price.append(None)  # Append None for missing values\n",
    "\n",
    "    # Append missing values for other lists if necessary\n",
    "    missing_count = len(brands) - len(price)\n",
    "    if missing_count > 0:\n",
    "        price.extend([None] * missing_count)\n",
    "\n",
    "    missing_count = len(brands) - len(original_price)\n",
    "    if missing_count > 0:\n",
    "        original_price.extend([None] * missing_count)\n",
    "\n",
    "\n",
    "    # Description\n",
    "    try:\n",
    "        ul = soup.find_all('ul', class_='_1xgFaf')\n",
    "        for d in ul:\n",
    "            li = d.find_all('li', class_='rgWa7D')\n",
    "            description.append([j.text for j in li])\n",
    "    except AttributeError:\n",
    "        description = ''\n",
    "\n",
    "    # Website link\n",
    "    try:\n",
    "        a_tag = soup.find_all('a', class_='_1fQZEK')\n",
    "        for i in a_tag:\n",
    "            link.append('https://www.flipkart.com' + i.get('href'))\n",
    "    except AttributeError:\n",
    "        link = ''\n",
    "        \n",
    "        \n",
    "# Data Frame\n",
    "df = pd.DataFrame()\n",
    "df['brands'] = brands\n",
    "df['price'] = price\n",
    "df['original_price'] = original_price\n",
    "df['description'] = description\n",
    "df['link'] = link\n",
    "df.head()\n",
    "\n",
    "# Close the WebDriver instance\n",
    "driver.quit()"
   ]
  },
  {
   "cell_type": "code",
   "execution_count": 3,
   "id": "5eea0dae",
   "metadata": {
    "scrolled": true
   },
   "outputs": [
    {
     "data": {
      "text/html": [
       "<div>\n",
       "<style scoped>\n",
       "    .dataframe tbody tr th:only-of-type {\n",
       "        vertical-align: middle;\n",
       "    }\n",
       "\n",
       "    .dataframe tbody tr th {\n",
       "        vertical-align: top;\n",
       "    }\n",
       "\n",
       "    .dataframe thead th {\n",
       "        text-align: right;\n",
       "    }\n",
       "</style>\n",
       "<table border=\"1\" class=\"dataframe\">\n",
       "  <thead>\n",
       "    <tr style=\"text-align: right;\">\n",
       "      <th></th>\n",
       "      <th>brands</th>\n",
       "      <th>price</th>\n",
       "      <th>original_price</th>\n",
       "      <th>description</th>\n",
       "      <th>link</th>\n",
       "    </tr>\n",
       "  </thead>\n",
       "  <tbody>\n",
       "    <tr>\n",
       "      <th>0</th>\n",
       "      <td>POCO M6 Pro 5G</td>\n",
       "      <td>12999</td>\n",
       "      <td>16999</td>\n",
       "      <td>[6 GB RAM | 128 GB ROM | Expandable Upto 1 TB,...</td>\n",
       "      <td>https://www.flipkart.com/poco-m6-pro-5g-power-...</td>\n",
       "    </tr>\n",
       "    <tr>\n",
       "      <th>1</th>\n",
       "      <td>POCO M6 Pro 5G</td>\n",
       "      <td>10999</td>\n",
       "      <td>14999</td>\n",
       "      <td>[4 GB RAM | 64 GB ROM | Expandable Upto 1 TB, ...</td>\n",
       "      <td>https://www.flipkart.com/poco-m6-pro-5g-forest...</td>\n",
       "    </tr>\n",
       "    <tr>\n",
       "      <th>2</th>\n",
       "      <td>POCO M6 Pro 5G</td>\n",
       "      <td>10999</td>\n",
       "      <td>14999</td>\n",
       "      <td>[4 GB RAM | 64 GB ROM | Expandable Upto 1 TB, ...</td>\n",
       "      <td>https://www.flipkart.com/poco-m6-pro-5g-power-...</td>\n",
       "    </tr>\n",
       "    <tr>\n",
       "      <th>3</th>\n",
       "      <td>POCO C51</td>\n",
       "      <td>6499</td>\n",
       "      <td>9999</td>\n",
       "      <td>[4 GB RAM | 64 GB ROM | Expandable Upto 1 TB, ...</td>\n",
       "      <td>https://www.flipkart.com/poco-c51-power-black-...</td>\n",
       "    </tr>\n",
       "    <tr>\n",
       "      <th>4</th>\n",
       "      <td>POCO C50</td>\n",
       "      <td>5499</td>\n",
       "      <td>8999</td>\n",
       "      <td>[2 GB RAM | 32 GB ROM | Expandable Upto 512 GB...</td>\n",
       "      <td>https://www.flipkart.com/poco-c50-royal-blue-3...</td>\n",
       "    </tr>\n",
       "  </tbody>\n",
       "</table>\n",
       "</div>"
      ],
      "text/plain": [
       "            brands  price  original_price  \\\n",
       "0  POCO M6 Pro 5G   12999           16999   \n",
       "1  POCO M6 Pro 5G   10999           14999   \n",
       "2  POCO M6 Pro 5G   10999           14999   \n",
       "3        POCO C51    6499            9999   \n",
       "4        POCO C50    5499            8999   \n",
       "\n",
       "                                         description  \\\n",
       "0  [6 GB RAM | 128 GB ROM | Expandable Upto 1 TB,...   \n",
       "1  [4 GB RAM | 64 GB ROM | Expandable Upto 1 TB, ...   \n",
       "2  [4 GB RAM | 64 GB ROM | Expandable Upto 1 TB, ...   \n",
       "3  [4 GB RAM | 64 GB ROM | Expandable Upto 1 TB, ...   \n",
       "4  [2 GB RAM | 32 GB ROM | Expandable Upto 512 GB...   \n",
       "\n",
       "                                                link  \n",
       "0  https://www.flipkart.com/poco-m6-pro-5g-power-...  \n",
       "1  https://www.flipkart.com/poco-m6-pro-5g-forest...  \n",
       "2  https://www.flipkart.com/poco-m6-pro-5g-power-...  \n",
       "3  https://www.flipkart.com/poco-c51-power-black-...  \n",
       "4  https://www.flipkart.com/poco-c50-royal-blue-3...  "
      ]
     },
     "execution_count": 3,
     "metadata": {},
     "output_type": "execute_result"
    }
   ],
   "source": [
    "df.head()"
   ]
  },
  {
   "cell_type": "code",
   "execution_count": 4,
   "id": "f45c0090",
   "metadata": {},
   "outputs": [],
   "source": [
    "df.to_csv('smart phone.csv')"
   ]
  },
  {
   "cell_type": "code",
   "execution_count": null,
   "id": "44ebe545",
   "metadata": {},
   "outputs": [],
   "source": []
  }
 ],
 "metadata": {
  "kernelspec": {
   "display_name": "Python 3 (ipykernel)",
   "language": "python",
   "name": "python3"
  },
  "language_info": {
   "codemirror_mode": {
    "name": "ipython",
    "version": 3
   },
   "file_extension": ".py",
   "mimetype": "text/x-python",
   "name": "python",
   "nbconvert_exporter": "python",
   "pygments_lexer": "ipython3",
   "version": "3.9.13"
  }
 },
 "nbformat": 4,
 "nbformat_minor": 5
}
